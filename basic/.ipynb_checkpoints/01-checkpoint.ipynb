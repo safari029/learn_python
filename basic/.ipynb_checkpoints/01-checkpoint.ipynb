{
 "cells": [
  {
   "cell_type": "markdown",
   "metadata": {},
   "source": [
    "# 基礎\n",
    "簡単なプログラム(fizzbuzzの処理)を行う為に必要最低限のpython知識\n",
    "\n",
    "### hello world!\n",
    "* 文字の出力\n",
    "* コメントアウト"
   ]
  },
  {
   "cell_type": "code",
   "execution_count": 46,
   "metadata": {
    "collapsed": false
   },
   "outputs": [
    {
     "name": "stdout",
     "output_type": "stream",
     "text": [
      "hello world!!\n"
     ]
    }
   ],
   "source": [
    "print(\"hello world!!\") #←以降はコメントアウトを表す"
   ]
  },
  {
   "cell_type": "code",
   "execution_count": 85,
   "metadata": {
    "collapsed": false
   },
   "outputs": [
    {
     "name": "stdout",
     "output_type": "stream",
     "text": [
      "改行あり\n",
      "改行あり\n",
      "改行無し,改行無し\n"
     ]
    }
   ],
   "source": [
    "#print関数にはデフォルトで改行コード（¥n）が入る。\n",
    "print(\"改行あり\")\n",
    "print(\"改行あり\")\n",
    "\n",
    "#改行したくない場合はendを指定する。\n",
    "print(\"改行無し\",end=\",\")\n",
    "print(\"改行無し\")"
   ]
  },
  {
   "cell_type": "markdown",
   "metadata": {},
   "source": [
    "### type\n",
    "* 変数の扱い方\n",
    "* 基本的な型"
   ]
  },
  {
   "cell_type": "code",
   "execution_count": 93,
   "metadata": {
    "collapsed": false
   },
   "outputs": [
    {
     "name": "stdout",
     "output_type": "stream",
     "text": [
      "-1\n",
      "<class 'int'>\n",
      "0.1\n",
      "<class 'float'>\n"
     ]
    }
   ],
   "source": [
    "#数値型\n",
    "\n",
    "#int型\n",
    "i=1 #変数はあらかじめ宣言する必要がない\n",
    "print(i)\n",
    "print(type(i))\n",
    "\n",
    "#float型\n",
    "f=0.1\n",
    "print(f)\n",
    "print(type(f))"
   ]
  },
  {
   "cell_type": "code",
   "execution_count": null,
   "metadata": {
    "collapsed": true
   },
   "outputs": [],
   "source": [
    "# 四則演算\n",
    "1 + 1\n",
    "1 - 1\n",
    "1 * 1\n",
    "1 / 1\n",
    "\n",
    "2 ** 10 # 累乗\n",
    "5 % 3   # 剰余"
   ]
  },
  {
   "cell_type": "code",
   "execution_count": 17,
   "metadata": {
    "collapsed": false
   },
   "outputs": [
    {
     "name": "stdout",
     "output_type": "stream",
     "text": [
      "text\n",
      "<class 'str'>\n"
     ]
    }
   ],
   "source": [
    "#str型（）\n",
    "s=\"text\"\n",
    "print(s)\n",
    "print(type(s))"
   ]
  },
  {
   "cell_type": "code",
   "execution_count": 26,
   "metadata": {
    "collapsed": false
   },
   "outputs": [
    {
     "name": "stdout",
     "output_type": "stream",
     "text": [
      "True\n",
      "<class 'bool'>\n",
      "True\n",
      "False\n"
     ]
    }
   ],
   "source": [
    "#bool型（True or False）\n",
    "b=True\n",
    "print(b)\n",
    "print(type(b))\n",
    "\n",
    "#各種ブール演算で利用\n",
    "print(1==1)\n",
    "print(1==3)"
   ]
  },
  {
   "cell_type": "code",
   "execution_count": 48,
   "metadata": {
    "collapsed": false
   },
   "outputs": [
    {
     "name": "stdout",
     "output_type": "stream",
     "text": [
      "[0, 1, 2]\n",
      "<class 'list'>\n",
      "0\n",
      "<class 'int'>\n"
     ]
    }
   ],
   "source": [
    "#list型\n",
    "l=[0,1,2]\n",
    "print(l)\n",
    "print(type(l))\n",
    "\n",
    "print(l[0]) #listの最初の値を取得\n",
    "print(type(l[0])) #格納されている値はint型"
   ]
  },
  {
   "cell_type": "markdown",
   "metadata": {},
   "source": [
    "## 論理演算子\n",
    "\n",
    "|演算子|記述例|意味|\n",
    "|-----------|------------|------------|\n",
    "|and(&)|a and b|aとbが共に真の場合に真|\n",
    "|or(bar)|a or b|aかbの少なくとも1つが真の場合に真|\n",
    "|not|not a|aが真の時に偽、偽の時に真|"
   ]
  },
  {
   "cell_type": "code",
   "execution_count": 58,
   "metadata": {
    "collapsed": false
   },
   "outputs": [
    {
     "name": "stdout",
     "output_type": "stream",
     "text": [
      "True\n",
      "False\n"
     ]
    }
   ],
   "source": [
    "print(1==1 & 3==1) #and条件\n",
    "print(1==1 | 3==1) #or条件"
   ]
  },
  {
   "cell_type": "markdown",
   "metadata": {},
   "source": [
    "## 比較演算子\n",
    "\n",
    "|演算子|記述例|意味|\n",
    "|-----------|------------|------------|\n",
    "|==|a == b|bがaに等しい|\n",
    "|!=|a != b|bがaに等しくない|\n",
    "|>|a > b|bよりaが大きい|\n",
    "|>=|a >= b|bよりaが大きいか等しい|\n",
    "|<|a < b|bよりaが小さい|\n",
    "|<=|a <= b|bよりaが小さいか等しい|\n",
    "\n",
    "演算子には優先順位があるので複雑な式を書くときは気をつけて\n",
    "http://www.pythonweb.jp/tutorial/num/index3.html\n",
    "\n",
    "以下if文にて例を示す。"
   ]
  },
  {
   "cell_type": "markdown",
   "metadata": {},
   "source": [
    "## 制御構文\n",
    "* ★ 制御構文内の処理の終わりには記号が存在せず、全てインデントで表されます。→キレイなコードに！！\n",
    "* ★ これは後ほどの関数等に共通しています。\n",
    "\n",
    "### if\n",
    "* if(条件)\n",
    "* elif(複数の条件を分ける場合)\n",
    "* else(ifの条件に該当しない場合)"
   ]
  },
  {
   "cell_type": "code",
   "execution_count": 38,
   "metadata": {
    "collapsed": false
   },
   "outputs": [
    {
     "name": "stdout",
     "output_type": "stream",
     "text": [
      "true\n"
     ]
    }
   ],
   "source": [
    "if (1==1): #比較演算　== を利用、=は値を代入する意味\n",
    "    print(\"true\")"
   ]
  },
  {
   "cell_type": "code",
   "execution_count": 61,
   "metadata": {
    "collapsed": false
   },
   "outputs": [
    {
     "name": "stdout",
     "output_type": "stream",
     "text": [
      "nothing is true\n"
     ]
    }
   ],
   "source": [
    "#上から順に条件分岐していく\n",
    "if (1==4):\n",
    "    print(\"1==4 is true\")\n",
    "elif(2==4):\n",
    "    print(\"2==4 is true\")\n",
    "elif(3==4):\n",
    "    print(\"3==4 is true\")\n",
    "else:\n",
    "    print(\"nothing is true\")"
   ]
  },
  {
   "cell_type": "markdown",
   "metadata": {},
   "source": [
    "### 繰り返し文\n",
    "* for\n",
    "* while"
   ]
  },
  {
   "cell_type": "code",
   "execution_count": 51,
   "metadata": {
    "collapsed": false
   },
   "outputs": [
    {
     "name": "stdout",
     "output_type": "stream",
     "text": [
      "0\n",
      "1\n",
      "2\n",
      "3\n",
      "4\n"
     ]
    }
   ],
   "source": [
    "# i に対してリストの値を頭から処理する。\n",
    "for i in [0,1,2,3,4]:\n",
    "    print(i)"
   ]
  },
  {
   "cell_type": "code",
   "execution_count": 50,
   "metadata": {
    "collapsed": false
   },
   "outputs": [
    {
     "name": "stdout",
     "output_type": "stream",
     "text": [
      "0\n",
      "1\n",
      "2\n",
      "3\n",
      "4\n"
     ]
    }
   ],
   "source": [
    "#range関数を使うことで上のリストと同じようなことができます。\n",
    "for i in range(5):\n",
    "    print(i)"
   ]
  },
  {
   "cell_type": "code",
   "execution_count": 44,
   "metadata": {
    "collapsed": false
   },
   "outputs": [
    {
     "name": "stdout",
     "output_type": "stream",
     "text": [
      "1\n",
      "2\n",
      "3\n",
      "4\n",
      "5\n"
     ]
    }
   ],
   "source": [
    "i=1\n",
    "while i != 6: #!=はノットイコールを表す。\n",
    "    print(i)\n",
    "    i+=1 # i=i+1 と同じ意味"
   ]
  },
  {
   "cell_type": "markdown",
   "metadata": {},
   "source": [
    "## 実践編\n",
    "3の倍数で\"Fizz\",5の倍数で\"Buzz\"、15の倍数で\"Fizz Buzz\"と出力するプログラムを作成してみましょう。\n",
    "\n",
    "[出力結果]\n",
    "1\n",
    "2\n",
    "Fizz\n",
    "4\n",
    "Buzz\n",
    "Fizz\n",
    "7\n",
    "...\n",
    "13\n",
    "14\n",
    "Fizz Buzz\n",
    "16\n",
    "17"
   ]
  }
 ],
 "metadata": {
  "kernelspec": {
   "display_name": "Python 3",
   "language": "python",
   "name": "python3"
  },
  "language_info": {
   "codemirror_mode": {
    "name": "ipython",
    "version": 3
   },
   "file_extension": ".py",
   "mimetype": "text/x-python",
   "name": "python",
   "nbconvert_exporter": "python",
   "pygments_lexer": "ipython3",
   "version": "3.6.0"
  }
 },
 "nbformat": 4,
 "nbformat_minor": 0
}

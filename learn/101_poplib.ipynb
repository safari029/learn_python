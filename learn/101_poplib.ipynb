{
 "cells": [
  {
   "cell_type": "markdown",
   "metadata": {},
   "source": [
    "# poplib\n",
    "メールを受信して見ましょう。"
   ]
  },
  {
   "cell_type": "code",
   "execution_count": null,
   "metadata": {
    "collapsed": false
   },
   "outputs": [],
   "source": [
    "# -*- coding:utf-8 -*-\n",
    "\n",
    "import poplib\n",
    "import getpass\n",
    "\n",
    "SERVER = input(\"Server: \") #python2系の場合はraw_input()を使いましょう。\n",
    "USER  = input(\"User: \")\n",
    "PASSWORD = getpass.getpass() #getpass関数は入力文字を隠してくれます。\n",
    "\n",
    "# connect to server\n",
    "pop3 = poplib.POP3_SSL(SERVER)\n",
    "#server = poplib.POP3(SERVER)\n",
    "\n",
    "# log in\n",
    "pop3.user(USER)\n",
    "pop3.pass_(PASSWORD)\n",
    "\n",
    "# メール一覧の取得\n",
    "mail_list = pop3.list()\n",
    "\n",
    "# 最初のメールのwhich番号を取得\n",
    "no=mail_list[1][0]\n",
    "\n",
    "# メールの呼び出し\n",
    "mail_data = pop3.retr(no)\n",
    "msg = email.message_from_string(\"\\n\".join(mail_data[1]))\n",
    "\n",
    "# subject(件名)取得\n",
    "subject = email.Header.decode_header(msg[\"Subject\"])\n",
    "\n",
    "# 表示してみる。（日本語とかだとうまくいかないかも）\n",
    "print(unicode(subject))"
   ]
  }
 ],
 "metadata": {
  "kernelspec": {
   "display_name": "Python 3",
   "language": "python",
   "name": "python3"
  },
  "language_info": {
   "codemirror_mode": {
    "name": "ipython",
    "version": 3
   },
   "file_extension": ".py",
   "mimetype": "text/x-python",
   "name": "python",
   "nbconvert_exporter": "python",
   "pygments_lexer": "ipython3",
   "version": "3.6.0"
  }
 },
 "nbformat": 4,
 "nbformat_minor": 2
}

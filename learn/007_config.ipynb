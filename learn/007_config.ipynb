{
 "cells": [
  {
   "cell_type": "markdown",
   "metadata": {},
   "source": [
    "# config\n",
    "コンフィグファイルを作成し、プログラムを操作せずに任意の設定情報を読み込ませます。\n",
    "API-KEYの保管や、任意のパラメータ等を指定する場合に便利です。\n",
    "\n",
    "## config file の用意\n",
    "\n",
    "サンプルのコンフィグファイル（007_test.conf）は以下のようになってます。\n",
    "\n",
    "```\n",
    "[section1]\n",
    "key1=hoge1\n",
    "key2=123\n",
    "\n",
    "[section2]\n",
    "key1:fuga1\n",
    "key2:1.001\n",
    "```\n",
    "\n",
    "[section]がセクション名（分類名のようなもの）を表してます。その下のkeyと値がセットになっています。  \n",
    "keyと値の区切りは \":\" または \"=\" を利用します。"
   ]
  },
  {
   "cell_type": "code",
   "execution_count": 22,
   "metadata": {
    "collapsed": false
   },
   "outputs": [
    {
     "name": "stdout",
     "output_type": "stream",
     "text": [
      "[]\n",
      "['section1', 'section2']\n"
     ]
    }
   ],
   "source": [
    "#configparserを使います\n",
    "import configparser\n",
    "\n",
    "#ConfigParserのインスタンスを作成\n",
    "conf=configparser.ConfigParser()\n",
    "\n",
    "#conf読み込み前\n",
    "print(conf.sections())\n",
    "\n",
    "#confを任意のファイルから呼び出し\n",
    "conf.read('007_test.conf')\n",
    "\n",
    "#conf読み込み後\n",
    "print(conf.sections())"
   ]
  },
  {
   "cell_type": "code",
   "execution_count": 24,
   "metadata": {
    "collapsed": false
   },
   "outputs": [
    {
     "name": "stdout",
     "output_type": "stream",
     "text": [
      "hoge1\n",
      "123 <class 'str'>\n",
      "123 <class 'int'>\n",
      "1.001 <class 'float'>\n"
     ]
    }
   ],
   "source": [
    "#実際に設定値を取得する。section名\n",
    "p1=conf.get('section1','key1')\n",
    "print(p1)\n",
    "\n",
    "p2=conf.get('section1','key2')\n",
    "print(p2,type(p2))\n",
    "\n",
    "#getメソッドは文字列として値を呼び出す。あらかじめint型等を指定することも可能。\n",
    "p2_int=conf.getint('section1','key2')\n",
    "print(p2_int,type(p2_int))\n",
    "\n",
    "p3=conf.getfloat('section2','key2')\n",
    "print(p3,type(p3))"
   ]
  }
 ],
 "metadata": {
  "kernelspec": {
   "display_name": "Python 3",
   "language": "python",
   "name": "python3"
  },
  "language_info": {
   "codemirror_mode": {
    "name": "ipython",
    "version": 3
   },
   "file_extension": ".py",
   "mimetype": "text/x-python",
   "name": "python",
   "nbconvert_exporter": "python",
   "pygments_lexer": "ipython3",
   "version": "3.6.0"
  }
 },
 "nbformat": 4,
 "nbformat_minor": 2
}

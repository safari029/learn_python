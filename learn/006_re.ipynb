{
 "cells": [
  {
   "cell_type": "markdown",
   "metadata": {
    "collapsed": true
   },
   "source": [
    "# re\n",
    "正規表現を利用した文字列処理を学びます  \n",
    "[参考: re — 正規表現操作](https://docs.python.jp/3/library/re.html)\n",
    "\n",
    "## 正規表現\n",
    "正規表現がよくわからないって場合は次のサイトを軽く読んでから  \n",
    "[サルにもわかる正規表現入門](http://www.mnet.ne.jp/~nakama/)"
   ]
  },
  {
   "cell_type": "code",
   "execution_count": 2,
   "metadata": {
    "collapsed": true
   },
   "outputs": [],
   "source": [
    "# 正規表現を利用するにはre（標準モジュール）を呼び出します\n",
    "import re"
   ]
  },
  {
   "cell_type": "code",
   "execution_count": 32,
   "metadata": {
    "collapsed": false
   },
   "outputs": [
    {
     "data": {
      "text/plain": [
       "<_sre.SRE_Match object; span=(0, 3), match='123'>"
      ]
     },
     "execution_count": 32,
     "metadata": {},
     "output_type": "execute_result"
    }
   ],
   "source": [
    "text='123test456TEST123'\n",
    "re.match('123',text) #re.match(pattern,text)メソッドは引数textに引数patternの文字がマッチするかを検査し、マッチオブジェクトを返す。"
   ]
  },
  {
   "cell_type": "code",
   "execution_count": 34,
   "metadata": {
    "collapsed": false
   },
   "outputs": [
    {
     "name": "stdout",
     "output_type": "stream",
     "text": [
      "match!!\n"
     ]
    }
   ],
   "source": [
    "if re.match('123',text): #matchオブジェクトは常にbool型を持つため、そのままif文に利用可能\n",
    "    print(\"match!!\")"
   ]
  },
  {
   "cell_type": "code",
   "execution_count": 35,
   "metadata": {
    "collapsed": true
   },
   "outputs": [],
   "source": [
    "if re.match('456',text): #matchメソッドは先頭の 0 個以上の文字を検査するため、このパターンではNoneを返す。\n",
    "    print(\"match!!\")"
   ]
  },
  {
   "cell_type": "code",
   "execution_count": 36,
   "metadata": {
    "collapsed": false
   },
   "outputs": [
    {
     "name": "stdout",
     "output_type": "stream",
     "text": [
      "match!!\n",
      "match!!\n"
     ]
    }
   ],
   "source": [
    "if re.search('456',text): #searchメソッドは正規表現がマッチする最初の場所を探して、対応する match オブジェクト を返します。\n",
    "    print(\"match!!\")\n",
    "if re.search('123',text):\n",
    "    print(\"match!!\")"
   ]
  },
  {
   "cell_type": "code",
   "execution_count": 37,
   "metadata": {
    "collapsed": false
   },
   "outputs": [
    {
     "data": {
      "text/plain": [
       "['123', '123']"
      ]
     },
     "execution_count": 37,
     "metadata": {},
     "output_type": "execute_result"
    }
   ],
   "source": [
    "re.findall('123',text) #findallメソッドはpatternの全てを検査する"
   ]
  },
  {
   "cell_type": "code",
   "execution_count": 40,
   "metadata": {
    "collapsed": false
   },
   "outputs": [
    {
     "data": {
      "text/plain": [
       "'XXXtest456TESTXXX'"
      ]
     },
     "execution_count": 40,
     "metadata": {},
     "output_type": "execute_result"
    }
   ],
   "source": [
    "re.sub('123','XXX',text) #subメソッドはマッチングした文字列を置換できる"
   ]
  },
  {
   "cell_type": "markdown",
   "metadata": {},
   "source": [
    "## 実践編\n",
    "\n",
    "以下のstringを一括で変換できるre.sub()を作成してみましょう。\n",
    "\n",
    "* [変換前]  \n",
    "text1=12345hogehogehoge456  \n",
    "text2=99fugafugafuga999\n",
    "  \n",
    "* [変換後]  \n",
    "XhogehogehogeX  \n",
    "XfugafugafugaX"
   ]
  }
 ],
 "metadata": {
  "kernelspec": {
   "display_name": "Python 3",
   "language": "python",
   "name": "python3"
  },
  "language_info": {
   "codemirror_mode": {
    "name": "ipython",
    "version": 3.0
   },
   "file_extension": ".py",
   "mimetype": "text/x-python",
   "name": "python",
   "nbconvert_exporter": "python",
   "pygments_lexer": "ipython3",
   "version": "3.6.0"
  }
 },
 "nbformat": 4,
 "nbformat_minor": 0
}
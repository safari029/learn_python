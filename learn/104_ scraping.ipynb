{
 "cells": [
  {
   "cell_type": "markdown",
   "metadata": {},
   "source": [
    "# scraping\n",
    "スクレイピングとは？\n",
    "\n",
    "> ウェブスクレイピング（英: Web scraping）とは、ウェブサイトから情報を抽出するコンピュータソフトウェア技術のこと。 ウェブ・クローラーあるいはウェブ・スパイダーとも呼ばれる。[wikipedia](https://ja.wikipedia.org/wiki/ウェブスクレイピング)\n",
    "\n",
    "APIとの違いは？\n",
    "\n",
    "> APIはサービス提供側が一定の条件を設けた上で公開している開発者向けの機能になります。対してスクレイピングは本来はユーザ向けであるHTMLコンテンツをコンピュータに解析されるもので、公式にサポートされているものではありません。  \n",
    ">  \n",
    ">そのためコンピュータによって負荷を高めたり、許容されていないアクセスを行うと不正アクセス防止法違反によって処罰される可能性もあります。 [スクレイピングとAPIの違い](https://developer.ntt.com/ja/blog/e007f5ca-292b-48b6-9fcb-e8051a1f9889)\n",
    "\n",
    "ってかAPI用意してくださいって話なんですけどね・・・\n",
    "\n",
    "ちなみにhtmlのタグと属性に関する予備知識は[こちら](http://so-zou.jp/web-app/tech/html/specification/element-attribute.htm)を参考ください"
   ]
  },
  {
   "cell_type": "markdown",
   "metadata": {},
   "source": [
    "## BeatifulSoap\n",
    "古くからある、最も利用されているスクレイピングのパッケージ\n",
    "\n",
    "\n",
    "* condaによるインストール\n",
    "\n",
    "```py\n",
    "#パッケージの確認\n",
    "conda list bs4\n",
    "\n",
    "#anacondaのパッケージ管理の場合\n",
    "conda intall bs4 \n",
    "\n",
    "#インストール後の確認\n",
    "conda list bs4\n",
    "```\n",
    "\n",
    "* pipであればこんな感じ\n",
    "\n",
    "```py\n",
    "#pipでやる場合はこちら\n",
    "pip install bs4\n",
    "\n",
    "#パッケージの確認\n",
    "pip show bs4\n",
    "```\n",
    "\n",
    "## pyquery\n",
    "より簡易にAPIっぽく利用できる\n",
    "\n",
    "インストール方法は同様です。"
   ]
  },
  {
   "cell_type": "code",
   "execution_count": 40,
   "metadata": {
    "collapsed": false
   },
   "outputs": [
    {
     "name": "stdout",
     "output_type": "stream",
     "text": [
      "<!doctype html>\n",
      "<html>\n",
      "<head>\n",
      "    <title>Example Domain</title>\n",
      "\n",
      "    <meta charset=\"utf-8\" />\n",
      "    <meta http-equiv=\"Content-type\" content=\"text/html; charset=utf-8\" />\n",
      "    <meta name=\"viewport\" content=\"width=device-width, initial-scale=1\" />\n",
      "    <style type=\"text/css\">\n",
      "    body {\n",
      "        background-color: #f0f0f2;\n",
      "        margin: 0;\n",
      "        padding: 0;\n",
      "        font-family: \"Open Sans\", \"Helvetica Neue\", Helvetica, Arial, sans-serif;\n",
      "        \n",
      "    }\n",
      "    div {\n",
      "        width: 600px;\n",
      "        margin: 5em auto;\n",
      "        padding: 50px;\n",
      "        background-color: #fff;\n",
      "        border-radius: 1em;\n",
      "    }\n",
      "    a:link, a:visited {\n",
      "        color: #38488f;\n",
      "        text-decoration: none;\n",
      "    }\n",
      "    @media (max-width: 700px) {\n",
      "        body {\n",
      "            background-color: #fff;\n",
      "        }\n",
      "        div {\n",
      "            width: auto;\n",
      "            margin: 0 auto;\n",
      "            border-radius: 0;\n",
      "            padding: 1em;\n",
      "        }\n",
      "    }\n",
      "    </style>    \n",
      "</head>\n",
      "\n",
      "<body>\n",
      "<div>\n",
      "    <h1>Example Domain</h1>\n",
      "    <p>This domain is established to be used for illustrative examples in documents. You may use this\n",
      "    domain in examples without prior coordination or asking for permission.</p>\n",
      "    <p><a href=\"http://www.iana.org/domains/example\">More information...</a></p>\n",
      "</div>\n",
      "</body>\n",
      "</html>\n",
      "\n"
     ]
    }
   ],
   "source": [
    "# 103_requestsのおさらい requestsで任意のhtmlを取得する\n",
    "\n",
    "import requests\n",
    "\n",
    "url='http://example.com/'\n",
    "\n",
    "res=requests.get(url)\n",
    "\n",
    "html=res.text\n",
    "\n",
    "print(html) #ここで取得したexample.comのhtmlをスクレイピングしてみる。"
   ]
  },
  {
   "cell_type": "code",
   "execution_count": 41,
   "metadata": {
    "collapsed": false
   },
   "outputs": [
    {
     "name": "stdout",
     "output_type": "stream",
     "text": [
      "<p>This domain is established to be used for illustrative examples in documents. You may use this\n",
      "    domain in examples without prior coordination or asking for permission.</p>\n",
      "[<p>This domain is established to be used for illustrative examples in documents. You may use this\n",
      "    domain in examples without prior coordination or asking for permission.</p>, <p><a href=\"http://www.iana.org/domains/example\">More information...</a></p>]\n",
      "http://www.iana.org/domains/example\n"
     ]
    }
   ],
   "source": [
    "# beatiful soap\n",
    "\n",
    "# beatiful soap オブジェクトの作成\n",
    "soap_bs4=BeautifulSoup(html,\"lxml\")\n",
    "\n",
    "# pタグの取得\n",
    "print(soap_bs4.p) #もしくは soap_bs4.find('p')\n",
    "print(soap_bs4.find_all('p')) #全てのpタグを取得する場合はfind_all()を利用\n",
    "\n",
    "# aタグ内のhref属性を取得\n",
    "link=soap_bs4.a.get('href')\n",
    "print(link)"
   ]
  },
  {
   "cell_type": "code",
   "execution_count": 81,
   "metadata": {
    "collapsed": false
   },
   "outputs": [
    {
     "name": "stdout",
     "output_type": "stream",
     "text": [
      "\n",
      "<head>\n",
      "    <title>Example Domain</title>\n",
      "\n",
      "    <meta charset=\"utf-8\"/>\n",
      "    <meta http-equiv=\"Content-type\" content=\"text/html; charset=utf-8\"/>\n",
      "    <meta name=\"viewport\" content=\"width=device-width, initial-scale=1\"/>\n",
      "    <style type=\"text/css\">\n",
      "    body {\n",
      "        background-color: #f0f0f2;\n",
      "        margin: 0;\n",
      "        padding: 0;\n",
      "        font-family: \"Open Sans\", \"Helvetica Neue\", Helvetica, Arial, sans-serif;\n",
      "        \n",
      "    }\n",
      "    div {\n",
      "        width: 600px;\n",
      "        margin: 5em auto;\n",
      "        padding: 50px;\n",
      "        background-color: #fff;\n",
      "        border-radius: 1em;\n",
      "    }\n",
      "    a:link, a:visited {\n",
      "        color: #38488f;\n",
      "        text-decoration: none;\n",
      "    }\n",
      "    @media (max-width: 700px) {\n",
      "        body {\n",
      "            background-color: #fff;\n",
      "        }\n",
      "        div {\n",
      "            width: auto;\n",
      "            margin: 0 auto;\n",
      "            border-radius: 0;\n",
      "            padding: 1em;\n",
      "        }\n",
      "    }\n",
      "    </style>    \n",
      "</head>\n",
      "\n",
      "<body>\n",
      "<div>\n",
      "    <h1>Example Domain</h1>\n",
      "    <p>This domain is established to be used for illustrative examples in documents. You may use this\n",
      "    domain in examples without prior coordination or asking for permission.</p>\n",
      "    <p><a href=\"http://www.iana.org/domains/example\">More information...</a></p>\n",
      "</div>\n",
      "</body>\n",
      "\n"
     ]
    }
   ],
   "source": [
    "# pyquery\n",
    "from pyquery import PyQuery\n",
    "\n",
    "# pyqueryオブジェクトの作成\n",
    "dom = PyQuery(html) #dom = PyQuery(url='http://example.com/') 直接URL指定も可能、任意のパラメータも渡せる。\n",
    "\n",
    "print(dom.html())"
   ]
  },
  {
   "cell_type": "code",
   "execution_count": 90,
   "metadata": {
    "collapsed": false
   },
   "outputs": [
    {
     "name": "stdout",
     "output_type": "stream",
     "text": [
      "Example Domain body {\n",
      "        background-color: #f0f0f2;\n",
      "        margin: 0;\n",
      "        padding: 0;\n",
      "        font-family: \"Open Sans\", \"Helvetica Neue\", Helvetica, Arial, sans-serif;\n",
      "        \n",
      "    }\n",
      "    div {\n",
      "        width: 600px;\n",
      "        margin: 5em auto;\n",
      "        padding: 50px;\n",
      "        background-color: #fff;\n",
      "        border-radius: 1em;\n",
      "    }\n",
      "    a:link, a:visited {\n",
      "        color: #38488f;\n",
      "        text-decoration: none;\n",
      "    }\n",
      "    @media (max-width: 700px) {\n",
      "        body {\n",
      "            background-color: #fff;\n",
      "        }\n",
      "        div {\n",
      "            width: auto;\n",
      "            margin: 0 auto;\n",
      "            border-radius: 0;\n",
      "            padding: 1em;\n",
      "        }\n",
      "    } Example Domain This domain is established to be used for illustrative examples in documents. You may use this\n",
      "    domain in examples without prior coordination or asking for permission. More information...\n"
     ]
    }
   ],
   "source": [
    "print(dom.text()) #text部分のみ出力"
   ]
  },
  {
   "cell_type": "code",
   "execution_count": 97,
   "metadata": {
    "collapsed": false
   },
   "outputs": [
    {
     "name": "stdout",
     "output_type": "stream",
     "text": [
      "<a href=\"http://www.iana.org/domains/example\">More information...</a>\n",
      "http://www.iana.org/domains/example\n"
     ]
    }
   ],
   "source": [
    "# タグの読み取り\n",
    "print(dom.find('a'))\n",
    "\n",
    "#属性値の読み取り\n",
    "print(dom.find('a').attr('href')) #dom.find('a').attr.href も同じ出力結果"
   ]
  }
 ],
 "metadata": {
  "kernelspec": {
   "display_name": "Python 3",
   "language": "python",
   "name": "python3"
  },
  "language_info": {
   "codemirror_mode": {
    "name": "ipython",
    "version": 3.0
   },
   "file_extension": ".py",
   "mimetype": "text/x-python",
   "name": "python",
   "nbconvert_exporter": "python",
   "pygments_lexer": "ipython3",
   "version": "3.6.0"
  }
 },
 "nbformat": 4,
 "nbformat_minor": 0
}
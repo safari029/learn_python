{
 "cells": [
  {
   "cell_type": "markdown",
   "metadata": {},
   "source": [
    "# exception\n",
    "\n",
    "全ての例外は[Exception](http://docs.python.jp/3.5/library/exceptions.html#Exception)クラスを継承して作成されています。  \n",
    "ここでは例外処理の方法及び、任意の例外を発生させる仕組みを学びます。\n",
    "\n",
    "## 例外処理\n",
    "例外処理の書き方について学ぶ　[参考: エラーと例外](http://docs.python.jp/3.5/tutorial/errors.html)"
   ]
  },
  {
   "cell_type": "code",
   "execution_count": 27,
   "metadata": {
    "collapsed": false
   },
   "outputs": [
    {
     "ename": "ZeroDivisionError",
     "evalue": "division by zero",
     "traceback": [
      "\u001b[0;31m---------------------------------------------------------------------------\u001b[0m",
      "\u001b[0;31mZeroDivisionError\u001b[0m                         Traceback (most recent call last)",
      "\u001b[0;32m<ipython-input-27-bad740ecfc8b>\u001b[0m in \u001b[0;36m<module>\u001b[0;34m()\u001b[0m\n\u001b[1;32m      1\u001b[0m \u001b[0;31m# Error となる条件は様々です。例えば0/0は以下のようなエラーが返ってきます\u001b[0m\u001b[0;34m\u001b[0m\u001b[0;34m\u001b[0m\u001b[0m\n\u001b[0;32m----> 2\u001b[0;31m \u001b[0;36m0\u001b[0m\u001b[0;34m/\u001b[0m\u001b[0;36m0\u001b[0m\u001b[0;34m\u001b[0m\u001b[0m\n\u001b[0m",
      "\u001b[0;31mZeroDivisionError\u001b[0m: division by zero"
     ],
     "output_type": "error"
    }
   ],
   "source": [
    "# Error となる条件は様々です。例えば0/0はZeroDivisionErrorというエラーが返ってきます\n",
    "0/0"
   ]
  },
  {
   "cell_type": "code",
   "execution_count": 3,
   "metadata": {
    "collapsed": false
   },
   "outputs": [
    {
     "name": "stdout",
     "output_type": "stream",
     "text": [
      "0で割ることはできません\n"
     ]
    }
   ],
   "source": [
    "#例外処理の書き方\n",
    "\n",
    "try:\n",
    "    0/0 #検査対象のコードは'try:'の後に書きます\n",
    "except ZeroDivisionError:\n",
    "    print(\"0で割ることはできません\") #エラー処理内容を記載します"
   ]
  },
  {
   "cell_type": "code",
   "execution_count": 7,
   "metadata": {
    "collapsed": false
   },
   "outputs": [],
   "source": [
    "#Errorが起きなければexceptの中身は実行されません。\n",
    "\n",
    "try:\n",
    "    0/1\n",
    "except ZeroDivisionError:\n",
    "    print(\"1で割ることはできません\")"
   ]
  },
  {
   "cell_type": "code",
   "execution_count": 8,
   "metadata": {
    "collapsed": false
   },
   "outputs": [
    {
     "name": "stdout",
     "output_type": "stream",
     "text": [
      "何かエラーが起きてます\n"
     ]
    }
   ],
   "source": [
    "try:\n",
    "    0/0\n",
    "except: #exceptの後に何も書かないことでエラー名をワイルドカードで指定することができます。\n",
    "    print(\"何かエラーが起きてます\") #予期しないエラー時にも処理が継続してしまうなど恐れがあります。できればエラー"
   ]
  },
  {
   "cell_type": "code",
   "execution_count": 16,
   "metadata": {
    "collapsed": false
   },
   "outputs": [
    {
     "name": "stdout",
     "output_type": "stream",
     "text": [
      "何かエラーが起きてます\n"
     ]
    }
   ],
   "source": [
    "import sys\n",
    "try:\n",
    "    0/0\n",
    "except: #exceptの後に何も書かないことでエラー名をワイルドカードで指定することができます。\n",
    "    print(\"何かエラーが起きてます\") #予期しないエラー時にも処理が継続してしまうなどあまりオススメはできません"
   ]
  },
  {
   "cell_type": "code",
   "execution_count": 17,
   "metadata": {
    "collapsed": false
   },
   "outputs": [
    {
     "name": "stdout",
     "output_type": "stream",
     "text": [
      "Unexpected error: <class 'ZeroDivisionError'>\n"
     ]
    }
   ],
   "source": [
    "import sys\n",
    "\n",
    "try:\n",
    "    0/0\n",
    "except:\n",
    "    print(\"Unexpected error:\", sys.exc_info()[0]) #sys.exc_info()[0]にエラーメッセージを再送出する際に利用可能"
   ]
  },
  {
   "cell_type": "code",
   "execution_count": 21,
   "metadata": {
    "collapsed": false
   },
   "outputs": [
    {
     "name": "stdout",
     "output_type": "stream",
     "text": [
      "Is this a error?\n",
      "no error\n"
     ]
    }
   ],
   "source": [
    "#エラーによって処理を変えるとき、ifelseような処理が可能\n",
    "\n",
    "try:\n",
    "    print(\"Is this a error?\")\n",
    "except ZeroDivisionError: \n",
    "    print(\"ZeroDivisionError\")\n",
    "except SyntaxError:\n",
    "    print(\"SyntaxError\")\n",
    "else: #　elseを利用して、エラーが起きなかった場合のみ処理をするといった記載\n",
    "    print(\"no error\")"
   ]
  },
  {
   "cell_type": "code",
   "execution_count": null,
   "metadata": {
    "collapsed": true
   },
   "outputs": [],
   "source": [
    "# finally節は例外が発生してもしなくても実行される\n",
    "try:\n",
    "    f = open('sample.txt', 'r')\n",
    "except:\n",
    "    print 'cannot open sample.txt'\n",
    "finally:\n",
    "    f.close()"
   ]
  },
  {
   "cell_type": "markdown",
   "metadata": {},
   "source": [
    "## Errorの書き方\n",
    "任意のErrorを起こすことも可能"
   ]
  },
  {
   "cell_type": "code",
   "execution_count": 31,
   "metadata": {
    "collapsed": false
   },
   "outputs": [
    {
     "ename": "ValueError",
     "evalue": "value is not int",
     "traceback": [
      "\u001b[0;31m---------------------------------------------------------------------------\u001b[0m",
      "\u001b[0;31mValueError\u001b[0m                                Traceback (most recent call last)",
      "\u001b[0;32m<ipython-input-31-e254a5bf513c>\u001b[0m in \u001b[0;36m<module>\u001b[0;34m()\u001b[0m\n\u001b[1;32m      3\u001b[0m \u001b[0;34m\u001b[0m\u001b[0m\n\u001b[1;32m      4\u001b[0m \u001b[0;31m#\u001b[0m\u001b[0;34m\u001b[0m\u001b[0;34m\u001b[0m\u001b[0m\n\u001b[0;32m----> 5\u001b[0;31m \u001b[0;32mraise\u001b[0m \u001b[0mValueError\u001b[0m\u001b[0;34m(\u001b[0m\u001b[0;34m\"value is not int\"\u001b[0m\u001b[0;34m)\u001b[0m\u001b[0;34m\u001b[0m\u001b[0m\n\u001b[0m",
      "\u001b[0;31mValueError\u001b[0m: value is not int"
     ],
     "output_type": "error"
    }
   ],
   "source": [
    "# 組み込み例外を利用する場合\n",
    "raise ZeroDivisionError()"
   ]
  },
  {
   "cell_type": "code",
   "execution_count": 40,
   "metadata": {
    "collapsed": false
   },
   "outputs": [
    {
     "ename": "TypeError",
     "evalue": "value is not int",
     "traceback": [
      "\u001b[0;31m---------------------------------------------------------------------------\u001b[0m",
      "\u001b[0;31mTypeError\u001b[0m                                 Traceback (most recent call last)",
      "\u001b[0;32m<ipython-input-40-8894a4131ebd>\u001b[0m in \u001b[0;36m<module>\u001b[0;34m()\u001b[0m\n\u001b[1;32m      1\u001b[0m \u001b[0;31m#TypeError(タイプが間違っている場合)\u001b[0m\u001b[0;34m\u001b[0m\u001b[0;34m\u001b[0m\u001b[0m\n\u001b[0;32m----> 2\u001b[0;31m \u001b[0;32mraise\u001b[0m \u001b[0mTypeError\u001b[0m\u001b[0;34m(\u001b[0m\u001b[0;34m\"value is not int\"\u001b[0m\u001b[0;34m)\u001b[0m \u001b[0;31m#raise 例外名（'任意のメッセージを入力できます'）\u001b[0m\u001b[0;34m\u001b[0m\u001b[0m\n\u001b[0m",
      "\u001b[0;31mTypeError\u001b[0m: value is not int"
     ],
     "output_type": "error"
    }
   ],
   "source": [
    "#TypeError(タイプが間違っている場合)\n",
    "raise TypeError(\"value is not int\") #raise 例外名（'任意のメッセージを入力できます'）"
   ]
  },
  {
   "cell_type": "code",
   "execution_count": 37,
   "metadata": {
    "collapsed": false
   },
   "outputs": [
    {
     "ename": "Exception",
     "evalue": "Error is occured",
     "traceback": [
      "\u001b[0;31m---------------------------------------------------------------------------\u001b[0m",
      "\u001b[0;31mException\u001b[0m                                 Traceback (most recent call last)",
      "\u001b[0;32m<ipython-input-37-e1fc7a4bc6f8>\u001b[0m in \u001b[0;36m<module>\u001b[0;34m()\u001b[0m\n\u001b[0;32m----> 1\u001b[0;31m \u001b[0;32mraise\u001b[0m \u001b[0mException\u001b[0m\u001b[0;34m(\u001b[0m\u001b[0;34m\"Error is occured\"\u001b[0m\u001b[0;34m)\u001b[0m\u001b[0;34m\u001b[0m\u001b[0m\n\u001b[0m",
      "\u001b[0;31mException\u001b[0m: Error is occured"
     ],
     "output_type": "error"
    }
   ],
   "source": [
    "raise Exception(\"Error is occured\")"
   ]
  },
  {
   "cell_type": "markdown",
   "metadata": {},
   "source": [
    "## 実践編\n",
    "\n",
    "以下のfizzbuzz関数において、入力値がint型以外の場合にTypeErrorが発生(raise)するように実装し直してみましょう。\n",
    "\n",
    "\n",
    "**!hint! int型かどうかを確認するにはtype関数**\n",
    "\n",
    "```\n",
    "def fizzbuzz(i):\n",
    "    if i%5==0 and i%3==0:\n",
    "        print('FizzBuzz')\n",
    "    elif i%3==0:\n",
    "        print(Fizz)\n",
    "    elif i%5==0:\n",
    "        print(Buzz)\n",
    "    else:\n",
    "        print(str(i))\n",
    "```"
   ]
  }
 ],
 "metadata": {
  "kernelspec": {
   "display_name": "Python 3",
   "language": "python",
   "name": "python3"
  },
  "language_info": {
   "codemirror_mode": {
    "name": "ipython",
    "version": 3.0
   },
   "file_extension": ".py",
   "mimetype": "text/x-python",
   "name": "python",
   "nbconvert_exporter": "python",
   "pygments_lexer": "ipython3",
   "version": "3.6.0"
  }
 },
 "nbformat": 4,
 "nbformat_minor": 0
}
{
 "cells": [
  {
   "cell_type": "markdown",
   "metadata": {
    "collapsed": true
   },
   "source": [
    "# module&funciton\n",
    "パッケージの読み込み方法、関数の定義方法\n",
    "\n",
    "## モジュールの利用\n",
    "あらかじめ用意、追加したモジュール(orパッケージ)を利用する方法です。　　\n",
    "\n",
    "* import, from ,as\n",
    "* packageの管理"
   ]
  },
  {
   "cell_type": "code",
   "execution_count": 43,
   "metadata": {
    "collapsed": false
   },
   "outputs": [
    {
     "data": {
      "text/plain": [
       "datetime.datetime(2017, 2, 5, 16, 37, 27, 274395)"
      ]
     },
     "execution_count": 43,
     "metadata": {},
     "output_type": "execute_result"
    }
   ],
   "source": [
    "# import \n",
    "\n",
    "import datetime #日付を扱うモジュール\"datetime\"をimportしている。\n",
    "\n",
    "datetime.datetime.now() #\"module名.型.メソッド\"という形で呼び出ししている。"
   ]
  },
  {
   "cell_type": "code",
   "execution_count": 44,
   "metadata": {
    "collapsed": false
   },
   "outputs": [
    {
     "data": {
      "text/plain": [
       "datetime.datetime(2017, 2, 5, 16, 37, 46, 244555)"
      ]
     },
     "execution_count": 44,
     "metadata": {},
     "output_type": "execute_result"
    }
   ],
   "source": [
    "#from\n",
    "\n",
    "from datetime import datetime #datetimeモジュールからdatetime型を呼び出している。\n",
    "\n",
    "datetime.now() #現在の時刻を返す関数"
   ]
  },
  {
   "cell_type": "code",
   "execution_count": 45,
   "metadata": {
    "collapsed": false
   },
   "outputs": [
    {
     "data": {
      "text/plain": [
       "datetime.datetime(2017, 2, 5, 16, 37, 48, 724035)"
      ]
     },
     "execution_count": 45,
     "metadata": {},
     "output_type": "execute_result"
    }
   ],
   "source": [
    "#as\n",
    "\n",
    "from datetime import datetime as time #asは別名をつけます。\n",
    "\n",
    "time.now() #結果は同じになります。"
   ]
  },
  {
   "cell_type": "markdown",
   "metadata": {},
   "source": [
    "## function\n",
    "* 関数を定義する方法について学びます。"
   ]
  },
  {
   "cell_type": "code",
   "execution_count": 53,
   "metadata": {
    "collapsed": false
   },
   "outputs": [
    {
     "name": "stdout",
     "output_type": "stream",
     "text": [
      "ここは関数の外側です。\n"
     ]
    }
   ],
   "source": [
    "# 関数は以下のように定義します。\n",
    "\n",
    "def func(x): #funcは関数名、xは引数です。引数が入らない場合はfunc()といった形で記載します。\n",
    "    ans = x+x\n",
    "    return ans #最終的に計算結果（ans）を返します。 \n",
    "\n",
    "#defの終わりはインデントにて判断されます。\n",
    "print(\"ここは関数の外側です。\")"
   ]
  },
  {
   "cell_type": "code",
   "execution_count": 54,
   "metadata": {
    "collapsed": false
   },
   "outputs": [
    {
     "data": {
      "text/plain": [
       "2"
      ]
     },
     "execution_count": 54,
     "metadata": {},
     "output_type": "execute_result"
    }
   ],
   "source": [
    "#関数の呼び出し\n",
    "\n",
    "func(1) #関数名(引数)といった形で呼び出します。"
   ]
  },
  {
   "cell_type": "markdown",
   "metadata": {},
   "source": [
    "## 実践編\n",
    "\n",
    "001で実施したfizzbuzzを関数fizzbuzz()として作成してみましょう。\n",
    "\n",
    "fizzbuzz(1)　→1, fizzbuzz(3) →Fizz, fizzbuzz(5) →Buzz, fizzbuzz(15) →FizzBuzz"
   ]
  }
 ],
 "metadata": {
  "kernelspec": {
   "display_name": "Python 3",
   "language": "python",
   "name": "python3"
  },
  "language_info": {
   "codemirror_mode": {
    "name": "ipython",
    "version": 3
   },
   "file_extension": ".py",
   "mimetype": "text/x-python",
   "name": "python",
   "nbconvert_exporter": "python",
   "pygments_lexer": "ipython3",
   "version": "3.6.0"
  }
 },
 "nbformat": 4,
 "nbformat_minor": 0
}

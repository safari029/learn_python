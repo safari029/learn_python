{
 "cells": [
  {
   "cell_type": "markdown",
   "metadata": {},
   "source": [
    "# ipaddress\n",
    "\n",
    "ipaddr(made by google)モジュールを元にipaddressモジュールが作成されました。  \n",
    "v3.3以降では標準モジュールとして組み込まれました。\n",
    "\n",
    "個人的にはipaddrモジュールの方が便利だったんだけど、python3.6だと対応していない？模様。\n",
    "\n",
    "* [ipaddr](https://github.com/google/ipaddr-py)\n",
    "* [ipaddress](https://docs.python.jp/3/library/ipaddress.html)\n",
    "\n",
    "## ipaddress"
   ]
  },
  {
   "cell_type": "code",
   "execution_count": 2,
   "metadata": {
    "collapsed": true
   },
   "outputs": [],
   "source": [
    "import  ipaddress"
   ]
  },
  {
   "cell_type": "code",
   "execution_count": 69,
   "metadata": {
    "collapsed": false
   },
   "outputs": [
    {
     "data": {
      "text/plain": [
       "IPv4Address('0.205.157.11')"
      ]
     },
     "execution_count": 69,
     "metadata": {},
     "output_type": "execute_result"
    }
   ],
   "source": [
    "# ipv4 address\n",
    "ipaddress.IPv4Address('8.8.8.8')"
   ]
  },
  {
   "cell_type": "code",
   "execution_count": 71,
   "metadata": {
    "collapsed": false
   },
   "outputs": [
    {
     "data": {
      "text/plain": [
       "IPv4Network('8.8.8.0/24')"
      ]
     },
     "execution_count": 71,
     "metadata": {},
     "output_type": "execute_result"
    }
   ],
   "source": [
    "# ipv4 network\n",
    "ipaddress.IPv4Network('8.8.8.0/24')"
   ]
  },
  {
   "cell_type": "code",
   "execution_count": 72,
   "metadata": {
    "collapsed": false
   },
   "outputs": [
    {
     "data": {
      "text/plain": [
       "IPv4Network('8.8.8.0/24')"
      ]
     },
     "execution_count": 72,
     "metadata": {},
     "output_type": "execute_result"
    }
   ],
   "source": [
    "# ipv4 network でhost bitが存在する場合、正しいIPを表現していない場合は　strict=False　を指定する必要がある。\n",
    "ipaddress.IPv4Network('8.8.8.8/24',strict=False)"
   ]
  },
  {
   "cell_type": "code",
   "execution_count": 80,
   "metadata": {
    "collapsed": false
   },
   "outputs": [
    {
     "name": "stdout",
     "output_type": "stream",
     "text": [
      "192.168.100.3\n",
      "192.168.100.0/24\n"
     ]
    }
   ],
   "source": [
    "# ipv4 interface　はネットワークとアドレスを保持している。\n",
    "eth0=ipaddress.IPv4Interface('192.168.100.3/24')\n",
    "print(eth0.ip)\n",
    "print(eth0.network)"
   ]
  },
  {
   "cell_type": "code",
   "execution_count": 101,
   "metadata": {
    "collapsed": false
   },
   "outputs": [
    {
     "name": "stdout",
     "output_type": "stream",
     "text": [
      "8.8.8.8 is in 8.8.8.0/24\n"
     ]
    }
   ],
   "source": [
    "ipA=ipaddress.IPv4Address('8.8.8.8')\n",
    "ipB=ipaddress.IPv4Address('192.168.100.100')\n",
    "netA=ipaddress.IPv4Network('8.8.8.0/24')\n",
    "\n",
    "if ipA in netA:\n",
    "    print('{0} is in {1}'.format(ipA,netA)) #printメソッドでは{0},{1}に代入する値をformatを用いて指定できる。\n",
    "\n",
    "if ipB in netA:\n",
    "        print('{0} is in {1}'.format(ipB,netA))"
   ]
  },
  {
   "cell_type": "code",
   "execution_count": 5,
   "metadata": {
    "collapsed": false
   },
   "outputs": [
    {
     "name": "stdout",
     "output_type": "stream",
     "text": [
      "<class 'set'>\n",
      "{IPv4Network('8.8.8.0/24'), IPv4Network('192.168.100.0/24')}\n",
      "{IPv4Network('8.8.8.0/24'), IPv4Network('192.168.100.0/24'), IPv4Network('172.64.0.0/16')}\n",
      "{IPv4Network('8.8.8.0/24'), IPv4Network('192.168.100.0/24'), IPv4Network('172.64.0.0/16')}\n"
     ]
    }
   ],
   "source": [
    "netA=ipaddress.IPv4Network('8.8.8.0/24')\n",
    "netB=ipaddress.IPv4Network('192.168.100.0/24')\n",
    "netC=ipaddress.IPv4Network('172.64.0.0/16')\n",
    "\n",
    "net_set={netA,netB}\n",
    "print(type(net_set)) #set型は順序なし、重複なしの集合を表す型　\n",
    "\n",
    "print(net_set)\n",
    "\n",
    "#set型はaddで集合を追加できる\n",
    "net_set.add(netC)\n",
    "print(net_set)\n",
    "\n",
    "#重複は排除されるので出力結果は変わらない\n",
    "net_set.add(netA)\n",
    "print(net_set)\n",
    "\n",
    "# set型の詳細はこちらから　http://docs.python.jp/3.5/library/stdtypes.html#set"
   ]
  },
  {
   "cell_type": "code",
   "execution_count": 139,
   "metadata": {
    "collapsed": false
   },
   "outputs": [
    {
     "name": "stdout",
     "output_type": "stream",
     "text": [
      "8.8.8.8 is in 8.8.8.0/24\n"
     ]
    }
   ],
   "source": [
    "ipA=ipaddress.IPv4Address('8.8.8.8')\n",
    "\n",
    "#net_set(複数のIPv4Network)内にipA(8.8.8.8)が存在するか確認してみる\n",
    "for n in net_set:\n",
    "    if ipA in n:\n",
    "        print('{0} is in {1}'.format(ipA,n))\n",
    "        break  #breakは強制的に繰り返し処理から抜ける"
   ]
  },
  {
   "cell_type": "markdown",
   "metadata": {},
   "source": [
    "## 実践編\n",
    "\n",
    "以下要件を満たすIPSetクラスを作成してみましょう。  \n",
    "  \n",
    "[要件定義]\n",
    "* インスタンス変数net_setを持ち、ipaddress.IPv4Network()の空集合を持ちます。\n",
    "* .add()メソッドで、インスタンス変数net_setに引数の文字列から生成されるipaddress.IPv4Network('引数の文字列')を追加できます\n",
    "* .search()メソッドで、インスタンス変数net_setと引数の文字列から生成されるipaddress.IPv4Address('引数の文字列)を比較し、True or Falseを返します。\n",
    "* 余裕があれば例外処理も書いてみましょう。\n",
    "\n",
    "[出力結果]\n",
    "```\n",
    "[in]\n",
    "ipset=IPSet()\n",
    "\n",
    "ipset.add('192.168.100.0/24')\n",
    "ipset.add('192.168.101.0/24')\n",
    "ipset.add('192.168.102.0/24')\n",
    "\n",
    "print(ipset.search('192.168.100.1'))\n",
    "print(ipset.search('192.168.200.1'))\n",
    "\n",
    "[out]\n",
    "True\n",
    "False\n",
    "```"
   ]
  }
 ],
 "metadata": {
  "kernelspec": {
   "display_name": "Python 3",
   "language": "python",
   "name": "python3"
  },
  "language_info": {
   "codemirror_mode": {
    "name": "ipython",
    "version": 3
   },
   "file_extension": ".py",
   "mimetype": "text/x-python",
   "name": "python",
   "nbconvert_exporter": "python",
   "pygments_lexer": "ipython3",
   "version": "3.6.0"
  }
 },
 "nbformat": 4,
 "nbformat_minor": 0
}

{
 "cells": [
  {
   "cell_type": "markdown",
   "metadata": {},
   "source": [
    "# ipaddress\n",
    "\n",
    "ipaddr(made by google)モジュールを元にipaddressモジュールが作成されました。  \n",
    "v3.3以降では標準モジュールとして組み込まれました。\n",
    "\n",
    "個人的にはipaddrモジュールの方が便利だったんだけど、python3.6だと対応していない？模様。\n",
    "\n",
    "* [ipaddr](https://github.com/google/ipaddr-py)\n",
    "* [ipaddress](https://docs.python.jp/3/library/ipaddress.html)\n",
    "\n",
    "## ipaddress"
   ]
  },
  {
   "cell_type": "code",
   "execution_count": 13,
   "metadata": {
    "collapsed": true
   },
   "outputs": [],
   "source": [
    "import  ipaddress"
   ]
  },
  {
   "cell_type": "code",
   "execution_count": 69,
   "metadata": {
    "collapsed": false
   },
   "outputs": [
    {
     "data": {
      "text/plain": [
       "IPv4Address('0.205.157.11')"
      ]
     },
     "execution_count": 69,
     "metadata": {},
     "output_type": "execute_result"
    }
   ],
   "source": [
    "# ipv4 address\n",
    "ipaddress.IPv4Address('8.8.8.8')"
   ]
  },
  {
   "cell_type": "code",
   "execution_count": 71,
   "metadata": {
    "collapsed": false
   },
   "outputs": [
    {
     "data": {
      "text/plain": [
       "IPv4Network('8.8.8.0/24')"
      ]
     },
     "execution_count": 71,
     "metadata": {},
     "output_type": "execute_result"
    }
   ],
   "source": [
    "# ipv4 network\n",
    "ipaddress.IPv4Network('8.8.8.0/24')"
   ]
  },
  {
   "cell_type": "code",
   "execution_count": 72,
   "metadata": {
    "collapsed": false
   },
   "outputs": [
    {
     "data": {
      "text/plain": [
       "IPv4Network('8.8.8.0/24')"
      ]
     },
     "execution_count": 72,
     "metadata": {},
     "output_type": "execute_result"
    }
   ],
   "source": [
    "# ipv4 network でhost bitが存在する場合、正しいIPを表現していない場合は　strict=False　を指定する必要がある。\n",
    "ipaddress.IPv4Network('8.8.8.8/24',strict=False)"
   ]
  },
  {
   "cell_type": "code",
   "execution_count": 80,
   "metadata": {
    "collapsed": false
   },
   "outputs": [
    {
     "name": "stdout",
     "output_type": "stream",
     "text": [
      "192.168.100.3\n",
      "192.168.100.0/24\n"
     ]
    }
   ],
   "source": [
    "# ipv4 interface　はネットワークとアドレスを保持している。\n",
    "eth0=ipaddress.IPv4Interface('192.168.100.3/24')\n",
    "print(eth0.ip)\n",
    "print(eth0.network)"
   ]
  },
  {
   "cell_type": "code",
   "execution_count": 99,
   "metadata": {
    "collapsed": false
   },
   "outputs": [
    {
     "name": "stdout",
     "output_type": "stream",
     "text": [
      "8.8.8.8 is in 8.8.8.0/24\n"
     ]
    }
   ],
   "source": [
    "ipA=ipaddress.IPv4Address('8.8.8.8')\n",
    "ipB=ipaddress.IPv4Address('192.168.100.100')\n",
    "netA=ipaddress.IPv4Network('8.8.8.0/24')\n",
    "\n",
    "if ipA in netA:\n",
    "    print('{0} is in {1}'.format(ipA,netA))\n",
    "\n",
    "if ipB in netA:\n",
    "        print('{0} is in {1}'.format(ipB,netA))"
   ]
  }
 ],
 "metadata": {
  "kernelspec": {
   "display_name": "Python 3",
   "language": "python",
   "name": "python3"
  },
  "language_info": {
   "codemirror_mode": {
    "name": "ipython",
    "version": 3
   },
   "file_extension": ".py",
   "mimetype": "text/x-python",
   "name": "python",
   "nbconvert_exporter": "python",
   "pygments_lexer": "ipython3",
   "version": "3.6.0"
  }
 },
 "nbformat": 4,
 "nbformat_minor": 2
}

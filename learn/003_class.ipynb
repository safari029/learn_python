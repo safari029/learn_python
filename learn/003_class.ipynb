{
 "cells": [
  {
   "cell_type": "markdown",
   "metadata": {
    "collapsed": true
   },
   "source": [
    "# class\n",
    "pythonは全てのデータがオブジェクトとして扱われる。\n",
    "クラスとメソッドを作成し、オブジェクト型思考のプログラムを理解する。"
   ]
  },
  {
   "cell_type": "code",
   "execution_count": 2,
   "metadata": {
    "collapsed": false
   },
   "outputs": [
    {
     "data": {
      "text/plain": [
       "__main__.MyClass"
      ]
     },
     "execution_count": 2,
     "metadata": {},
     "output_type": "execute_result"
    }
   ],
   "source": [
    "#クラスの作成\n",
    "class MyClass(object):  #objectは省略可能\n",
    "    pass\n",
    "\n",
    "#インスタンスの作成\n",
    "i=MyClass()\n",
    "type(i)"
   ]
  },
  {
   "cell_type": "markdown",
   "metadata": {
    "collapsed": true
   },
   "source": [
    "## class,instance,method\n",
    "\n",
    "* 実際にサイコロクラスを作ってみる。サイコロを振る機能（method）を作ってみる。\n",
    "* 前回実施した関数と何が違うのかを考えてみる。"
   ]
  },
  {
   "cell_type": "code",
   "execution_count": 15,
   "metadata": {
    "collapsed": false
   },
   "outputs": [
    {
     "data": {
      "text/plain": [
       "6"
      ]
     },
     "execution_count": 15,
     "metadata": {},
     "output_type": "execute_result"
    }
   ],
   "source": [
    "import random  #randomという乱数モジュールを利用します。\n",
    "\n",
    "class Dice():\n",
    "    \n",
    "    def __init__(self,men): #クラスの初期化、menはサイコロの面数の初期化パラメータ\n",
    "        self.men=men　#インスタンス変数を指定。\n",
    "    \n",
    "    def throw(self): #methodの定義\n",
    "        return random.randint(1,self.men)\n",
    "\n",
    "d6=Dice(6) #インスタンスの作成\n",
    "d6.throw()"
   ]
  },
  {
   "cell_type": "code",
   "execution_count": 17,
   "metadata": {
    "collapsed": false
   },
   "outputs": [
    {
     "data": {
      "text/plain": [
       "6"
      ]
     },
     "execution_count": 17,
     "metadata": {},
     "output_type": "execute_result"
    }
   ],
   "source": [
    "#８面ダイスを作りたい\n",
    "d8=Dice(8)\n",
    "d8.throw()"
   ]
  },
  {
   "cell_type": "code",
   "execution_count": null,
   "metadata": {
    "collapsed": true
   },
   "outputs": [],
   "source": [
    "#上記を関数として実装すると\n",
    "\n",
    "import random\n",
    "\n",
    "def dice_throw(men):\n",
    "        return random.randint(1,men)\n",
    "\n",
    "#関数の呼び出し\n",
    "dice_throw(6)\n",
    "dice_throw(8) #毎回引数を渡さなくてはならない、冗長的な記載となってしまう。"
   ]
  },
  {
   "cell_type": "markdown",
   "metadata": {},
   "source": [
    "## 実践編\n",
    "\n",
    "実際に以下のような犬クラス(Dog)を作って見ましょう。hint！！！　この問題ではクラスの初期化はしなくてもOK\n",
    "\n",
    "```python\n",
    "#以下のように実行した際に\n",
    "dog=Dog() #インスタンスの作成\n",
    "dog.bowwow()　#bowwowメソッドを呼び出す。\n",
    "\n",
    "#出力結果がこんな感じになればOKです。\n",
    "bowwowbowwow\n",
    "```"
   ]
  }
 ],
 "metadata": {
  "kernelspec": {
   "display_name": "Python 3",
   "language": "python",
   "name": "python3"
  },
  "language_info": {
   "codemirror_mode": {
    "name": "ipython",
    "version": 3.0
   },
   "file_extension": ".py",
   "mimetype": "text/x-python",
   "name": "python",
   "nbconvert_exporter": "python",
   "pygments_lexer": "ipython3",
   "version": "3.6.0"
  }
 },
 "nbformat": 4,
 "nbformat_minor": 0
}
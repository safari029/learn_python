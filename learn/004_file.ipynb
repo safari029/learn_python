{
 "cells": [
  {
   "cell_type": "markdown",
   "metadata": {
    "collapsed": true
   },
   "source": [
    "# file\n",
    "fileの各種操作方法を学ぶ\n",
    "\n",
    "* ファイルの入出力 [python.jp](http://docs.python.jp/3.5/tutorial/inputoutput.html)\n",
    "* fileの削除、コピー、移動\n",
    "* globモジュールを利用した操作\n"
   ]
  },
  {
   "cell_type": "markdown",
   "metadata": {},
   "source": [
    "## output"
   ]
  },
  {
   "cell_type": "code",
   "execution_count": 91,
   "metadata": {
    "collapsed": false
   },
   "outputs": [],
   "source": [
    "#出力\n",
    "\n",
    "txt=\"This is a test.\"\n",
    "\n",
    "with open('test1.txt','w') as f : #'test.txt'ファイルをw(書き込み権限)でf（file object）として読み込む\n",
    "    f.write(txt"
   ]
  },
  {
   "cell_type": "code",
   "execution_count": 3,
   "metadata": {
    "collapsed": false
   },
   "outputs": [],
   "source": [
    "txt_list=['This\\r\\n' , 'is\\r\\n' , 'a\\r\\n' , 'test.\\r\\n'] #'\\n\\r'は改行を表します。macの場合は¥r¥nではなく、\\r\\nと入力しないとうまく改行できません\n",
    "\n",
    "with open('test2.txt','w') as f:\n",
    "    f.writelines(txt_list) #list型のファイルをそのまま書き込む場合はwritelines()を利用"
   ]
  },
  {
   "cell_type": "markdown",
   "metadata": {},
   "source": [
    "## input"
   ]
  },
  {
   "cell_type": "code",
   "execution_count": 89,
   "metadata": {
    "collapsed": false
   },
   "outputs": [
    {
     "ename": "FileNotFoundError",
     "evalue": "[Errno 2] No such file or directory: 'test1.txt'",
     "traceback": [
      "\u001b[0;31m---------------------------------------------------------------------------\u001b[0m",
      "\u001b[0;31mFileNotFoundError\u001b[0m                         Traceback (most recent call last)",
      "\u001b[0;32m<ipython-input-89-9eb29f6789db>\u001b[0m in \u001b[0;36m<module>\u001b[0;34m()\u001b[0m\n\u001b[1;32m      1\u001b[0m \u001b[0;31m#ファイル読み込み\u001b[0m\u001b[0;34m\u001b[0m\u001b[0;34m\u001b[0m\u001b[0m\n\u001b[1;32m      2\u001b[0m \u001b[0;34m\u001b[0m\u001b[0m\n\u001b[0;32m----> 3\u001b[0;31m \u001b[0;32mwith\u001b[0m \u001b[0mopen\u001b[0m\u001b[0;34m(\u001b[0m\u001b[0;34m'test1.txt'\u001b[0m\u001b[0;34m,\u001b[0m \u001b[0;34m'r'\u001b[0m\u001b[0;34m)\u001b[0m \u001b[0;32mas\u001b[0m \u001b[0mf\u001b[0m\u001b[0;34m:\u001b[0m \u001b[0;31m#'test.txt'ファイルをr(read権限)でf(ファイル型の変数)として読み込む\u001b[0m\u001b[0;34m\u001b[0m\u001b[0m\n\u001b[0m\u001b[1;32m      4\u001b[0m     \u001b[0mtxt\u001b[0m\u001b[0;34m=\u001b[0m\u001b[0mf\u001b[0m\u001b[0;34m.\u001b[0m\u001b[0mread\u001b[0m\u001b[0;34m(\u001b[0m\u001b[0;34m)\u001b[0m \u001b[0;31m#fの内容を読み取り\u001b[0m\u001b[0;34m\u001b[0m\u001b[0m\n\u001b[1;32m      5\u001b[0m     \u001b[0mprint\u001b[0m\u001b[0;34m(\u001b[0m\u001b[0mtype\u001b[0m\u001b[0;34m(\u001b[0m\u001b[0mf\u001b[0m\u001b[0;34m)\u001b[0m\u001b[0;34m)\u001b[0m\u001b[0;34m\u001b[0m\u001b[0m\n",
      "\u001b[0;31mFileNotFoundError\u001b[0m: [Errno 2] No such file or directory: 'test1.txt'"
     ],
     "output_type": "error"
    }
   ],
   "source": [
    "#ファイル読み込み\n",
    "\n",
    "with open('test1.txt', 'r') as f: #'test.txt'ファイルをr(read権限)でf（file object）として読み込む\n",
    "    txt=f.read() #fの内容を読み取り\n",
    "\n",
    "# ファイルのクローズはインデントで表す。\n",
    "print(txt)\n",
    "\n",
    "###別の記載方法、クローズを忘れるのでオススメしない\n",
    "#f = 　open('test.txt' , 'r')\n",
    "#txt = f.read()\n",
    "#f.close()\n",
    "#print(txt)"
   ]
  },
  {
   "cell_type": "code",
   "execution_count": 70,
   "metadata": {
    "collapsed": false
   },
   "outputs": [
    {
     "name": "stdout",
     "output_type": "stream",
     "text": [
      "This\n",
      "\n",
      "['This\\n', 'is\\n', 'a\\n', 'test.\\n']\n"
     ]
    }
   ],
   "source": [
    "with open('test2.txt','r') as f:\n",
    "        line=f.readline() #１行毎に読み込む\n",
    "print(line)\n",
    "\n",
    "with open('test2.txt','r') as f:\n",
    "        lines=f.readlines() #複数行をlist型に読み込む\n",
    "print(lines)"
   ]
  },
  {
   "cell_type": "markdown",
   "metadata": {},
   "source": [
    "## delete,copy,move\n",
    "\n",
    "osモジュールを利用した簡単方法を以下では紹介する。\n",
    "\n",
    "[参考：Pythonファイル/ディレクトリ操作](http://qiita.com/supersaiakujin/items/12451cd2b8315fe7d054)"
   ]
  },
  {
   "cell_type": "code",
   "execution_count": 84,
   "metadata": {
    "collapsed": false
   },
   "outputs": [
    {
     "data": {
      "text/plain": [
       "False"
      ]
     },
     "execution_count": 84,
     "metadata": {},
     "output_type": "execute_result"
    }
   ],
   "source": [
    "#　ファイルが存在するか確認する\n",
    "import os\n",
    "os.path.exists('test1.txt') #bool型で返ってくる、パスは絶対パス、相対パスどちらでも可"
   ]
  },
  {
   "cell_type": "code",
   "execution_count": 77,
   "metadata": {
    "collapsed": false
   },
   "outputs": [],
   "source": [
    "# ファイル削除\n",
    "import os\n",
    "os.remove('test1.txt')"
   ]
  },
  {
   "cell_type": "code",
   "execution_count": 83,
   "metadata": {
    "collapsed": false
   },
   "outputs": [
    {
     "data": {
      "text/plain": [
       "'test3.txt'"
      ]
     },
     "execution_count": 83,
     "metadata": {},
     "output_type": "execute_result"
    }
   ],
   "source": [
    "# copy\n",
    "import shutil\n",
    "shutil.copy('test2.txt','test3.txt')"
   ]
  },
  {
   "cell_type": "code",
   "execution_count": 85,
   "metadata": {
    "collapsed": false
   },
   "outputs": [
    {
     "data": {
      "text/plain": [
       "'test4.txt'"
      ]
     },
     "execution_count": 85,
     "metadata": {},
     "output_type": "execute_result"
    }
   ],
   "source": [
    "# move\n",
    "import shutil\n",
    "shutil.move('test3.txt','test4.txt')"
   ]
  },
  {
   "cell_type": "markdown",
   "metadata": {},
   "source": [
    "## glob"
   ]
  },
  {
   "cell_type": "code",
   "execution_count": 93,
   "metadata": {
    "collapsed": false
   },
   "outputs": [
    {
     "data": {
      "text/plain": [
       "['test1.txt', 'test2.txt', 'test4.txt']"
      ]
     },
     "execution_count": 93,
     "metadata": {},
     "output_type": "execute_result"
    }
   ],
   "source": [
    "from glob import glob\n",
    "\n",
    "glob('*.txt') #globはfunction、*(ワイルドカード)による指定が可能"
   ]
  },
  {
   "cell_type": "code",
   "execution_count": 97,
   "metadata": {
    "collapsed": false
   },
   "outputs": [],
   "source": [
    "import os\n",
    "from glob import glob\n",
    "\n",
    "for f in glob('*.txt'):\n",
    "    os.remove(f) #'*.txt'に該当するファイルを全て削除します。"
   ]
  }
 ],
 "metadata": {
  "kernelspec": {
   "display_name": "Python 3",
   "language": "python",
   "name": "python3"
  },
  "language_info": {
   "codemirror_mode": {
    "name": "ipython",
    "version": 3.0
   },
   "file_extension": ".py",
   "mimetype": "text/x-python",
   "name": "python",
   "nbconvert_exporter": "python",
   "pygments_lexer": "ipython3",
   "version": "3.6.0"
  }
 },
 "nbformat": 4,
 "nbformat_minor": 0
}